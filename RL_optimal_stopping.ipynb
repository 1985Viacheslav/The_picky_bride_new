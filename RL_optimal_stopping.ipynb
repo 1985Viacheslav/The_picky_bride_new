{
 "cells": [
  {
   "cell_type": "markdown",
   "id": "cd67a2be-7103-471f-8da2-4b2faadfcaf4",
   "metadata": {},
   "source": [
    "# Комплексный обзор и анализ алгоритма для задачи выбора жениха\n",
    "\n",
    "### **Общая цель и описание задачи**\n",
    "Алгоритм решает задачу оптимальной остановки, известную как задача \"Секретаря\" (или \"задача выбора жениха\"), в которой целью является максимизация вероятности выбора наилучшего кандидата (жениха) из последовательности. Алгоритм анализирует ранжированные по качеству предложения кандидатов и принимает решение о том, когда остановиться и выбрать кандидата, основываясь на накопленной информации.\n",
    "\n",
    "### **Используемый подход**\n",
    "Алгоритм основан на методе обучения с подкреплением (RL) и реализован с помощью модели PPO (Proximal Policy Optimization), одного из популярных подходов в RL. PPO является методом политики, который обучает агента (в данном случае — алгоритм выбора жениха) на основе опыта взаимодействий с окружением (средой), обновляя политику выборов (стратегию принятия решений) таким образом, чтобы улучшить вероятности достижения поставленной цели — выбрать наилучшего кандидата.\n",
    "\n",
    "#### **Основные особенности PPO:**\n",
    "- **Постепенное обновление политики:** PPO ограничивает обновления политики с использованием \"клиппинга\" (clip range), чтобы предотвратить слишком резкие изменения, что делает обучение более стабильным и менее подверженным перегрузкам.\n",
    "- **Использование батчей и мини-батчей:** PPO использует мини-батчи из опыта для обновления политики, что позволяет лучше усреднить градиенты и улучшить общую устойчивость процесса обучения.\n",
    "- **Поддержка энтропийного коэффициента (ent_coef):** В алгоритме используется коэффициент энтропии для поддержки исследования (exploration), что помогает агенту рассматривать различные стратегии и избегать преждевременной конвергенции к одной стратегии.\n",
    "\n",
    "### **Структура алгоритма**\n",
    "1. **Создание среды (GroomSelectionEnv):** \n",
    "   Алгоритм взаимодействует с окружением, которое моделирует процесс выбора жениха. В среде кандидаты представлены как числа, а агент учится оптимально решать, когда остановиться и выбрать лучшего кандидата, основываясь на их ранжировании и индексации.\n",
    "2. **Обучение модели PPO:**\n",
    "   - Начальные параметры модели: Для обучения используется нейросеть с политикой `MlpPolicy`, оптимизированной с помощью алгоритма PPO.\n",
    "   - Обучение происходит итерациями: За каждый интервал обучения (задан параметром `eval_interval`) модель обучается и оценивается, что позволяет следить за прогрессом в выборе лучших кандидатов.\n",
    "   - Сглаживание результатов: Для уменьшения шумов и улучшения стабильности используется скользящее среднее вероятности выбора лучшего кандидата.\n",
    "3. **Оценка и улучшение:**\n",
    "   - Оценка вероятности выбора лучшего кандидата выполняется на каждом шаге. Если вероятность улучшилась, то среда вознаграждает модель, устанавливая награду за улучшение. Это обеспечивает мотивацию модели не только выбирать лучших кандидатов, но и постоянно улучшать свою стратегию.\n",
    "4. **Логирование и визуализация:**\n",
    "   - Алгоритм сохраняет логи в файл JSON, что позволяет отслеживать ключевые результаты, такие как количество кандидатов, количество итераций и процент успешных выборов лучших кандидатов.\n",
    "   - После завершения обучения строится график, показывающий изменение вероятности выбора лучшего кандидата по мере обучения.\n",
    "\n",
    "### **Теоретическое обоснование**\n",
    "Задача оптимальной остановки, используемая в этом проекте, является классической математической задачей с реальными приложениями, такими как выбор сотрудников на работу или решения инвестиционных вопросов. Теоретически доказано, что для задачи \"Секретаря\" существует оптимальная стратегия, которая состоит в том, чтобы пропустить первые \\(n/e\\) кандидатов (где \\(e\\) — основание натурального логарифма) и затем выбрать первого кандидата, который превосходит всех предыдущих.\n",
    "\n",
    "В данном случае, алгоритм PPO изучает похожую стратегию путем взаимодействия с окружением и обучения на основе наград за успешный выбор кандидатов. Это позволяет агенту выявить оптимальные моменты для выбора женихов, не полагаясь на предопределенные правила, а обучаясь адаптироваться к разным числам кандидатов и ситуациям.\n",
    "\n",
    "### **Заключение**\n",
    "Представленный алгоритм представляет собой гибкий и адаптивный подход к решению задачи выбора жениха на основе обучения с подкреплением. Он эффективно использует возможности алгоритма PPO для постоянного улучшения стратегии выбора кандидатов через итерации, оценку и обратную связь. Использование методов RL в задаче выбора жениха является удачным примером применения современных методов машинного обучения для решения классических задач оптимальной остановки.\n"
   ]
  },
  {
   "cell_type": "markdown",
   "id": "f67b90ff",
   "metadata": {},
   "source": [
    "# Входные данные модели:\n",
    "Текущий рейтинг кандидата: candidate_value (в диапазоне от 0.0 до 1.0).\n",
    "\n",
    "Прогресс: progress, показывающий, на каком этапе просмотра модель находится.\n",
    "\n",
    "Общее количество кандидатов: self.n_candidates.\n",
    "\n",
    "# Награды:\n",
    "Выбор лучшего кандидата:\n",
    "\n",
    "Награда: 1.0\n",
    "\n",
    "Описание: Мотивирует модель выбирать кандидата с наивысшим рейтингом.\n",
    "\n",
    "Выбор кандидата выше самого высокого из просмотренных:\n",
    "\n",
    "Награда: 0.1\n",
    "\n",
    "Описание: Поощряет модель за выбор кандидатов, рейтинг которых выше самого высокого значения всех просмотренных ранее.\n",
    "\n",
    "Награда за постоянное улучшение:\n",
    "\n",
    "Награда: Устанавливается функцией set_improvement_reward.\n",
    "\n",
    "Описание: Мотивирует модель на постоянное улучшение результатов.\n",
    "\n",
    "# Штрафы:\n",
    "Штрафы отсутствуют в текущем коде."
   ]
  },
  {
   "cell_type": "markdown",
   "id": "66fad834",
   "metadata": {},
   "source": [
    "# Импорт необходимых библиотек"
   ]
  },
  {
   "cell_type": "code",
   "execution_count": 133,
   "id": "38d1ed2a-ccd8-4cfc-99d6-0cd956db9bd5",
   "metadata": {},
   "outputs": [],
   "source": [
    "import json\n",
    "import numpy as np\n",
    "import gymnasium as gym\n",
    "import seaborn as sns\n",
    "import matplotlib.pyplot as plt\n",
    "\n",
    "\n",
    "from gymnasium import spaces\n",
    "from stable_baselines3 import PPO\n",
    "from stable_baselines3.common.vec_env import DummyVecEnv"
   ]
  },
  {
   "cell_type": "markdown",
   "id": "7ce97278",
   "metadata": {},
   "source": [
    "# Класс для создания среды выбора кандидатов"
   ]
  },
  {
   "cell_type": "code",
   "execution_count": 134,
   "id": "791b6ec1-8cf8-45dc-8a85-4b5a53abe5f4",
   "metadata": {},
   "outputs": [],
   "source": [
    "class GroomSelectionEnv(gym.Env):  \n",
    "    def __init__(self, n_candidates=100):\n",
    "        super().__init__()\n",
    "        self.n_candidates = n_candidates  # Количество кандидатов\n",
    "        self.min_rating = 0.0  # Минимальный рейтинг кандидата\n",
    "        self.max_rating = 1.0  # Максимальный рейтинг кандидата\n",
    "        self.candidates = []  # Список кандидатов\n",
    "        self.current_step = 0  # Текущий шаг\n",
    "        self.best_candidate_index = -1  # Индекс лучшего кандидата\n",
    "        self.improvement_reward = 0  # Награда за улучшение\n",
    "        self.skipped_grooms_count = 0  # Количество пропущенных кандидатов\n",
    "        self.viewed_candidates = []  # Список просмотренных кандидатов\n",
    "\n",
    "        self.action_space = spaces.Discrete(2)  # Дискретное пространство действий (2 действия: выбрать или пропустить)\n",
    "        self.observation_space = spaces.Box(\n",
    "            low=0, high=1, shape=(3,), dtype=np.float32  # Пространство наблюдений (3 параметра)\n",
    "        )\n",
    "\n",
    "    def step(self, action):  # Метод для выполнения шага в среде\n",
    "        if self.current_step >= self.n_candidates - 1:  # Если достигнут последний шаг\n",
    "            terminated = True  # Эпизод завершен\n",
    "            chosen_groom = True  # Кандидат выбран\n",
    "\n",
    "            if self.current_step - 1 == self.best_candidate_index:  # Если текущий кандидат лучший\n",
    "                reward = 1.0  # Награда за выбор лучшего кандидата\n",
    "            else:\n",
    "                reward = 0.0  # Минимальная награда за пропуск лучшего кандидата\n",
    "            reward += self.improvement_reward  # Добавление награды за улучшение\n",
    "            return self._get_obs(), reward, terminated, False, {\"chosen_groom\": chosen_groom}  # Возвращаем наблюдения, награду, статус завершения и информацию\n",
    "\n",
    "        reward = 0  # Изначальная награда\n",
    "        terminated = False  # Эпизод не завершен\n",
    "        chosen_groom = False  # Кандидат не выбран\n",
    "\n",
    "        if action == 1:  # Если действие — выбрать кандидата\n",
    "            chosen_groom = True\n",
    "            if self.current_step == self.best_candidate_index:  # Если выбран лучший кандидат\n",
    "                reward = 1.0  # Награда за выбор лучшего кандидата\n",
    "            else:\n",
    "                if self.viewed_candidates and self.candidates[self.current_step] > max(self.viewed_candidates):  # Если текущий кандидат лучше всех просмотренных\n",
    "                    reward = 0.1  # Награда за выбор кандидата выше самого высокого из просмотренных\n",
    "            reward += self.improvement_reward  # Добавление награды за улучшение\n",
    "            terminated = True  # Эпизод завершен\n",
    "        else:  # Если действие — пропустить кандидата\n",
    "            self.viewed_candidates.append(self.candidates[self.current_step])  # Запоминаем текущего кандидата\n",
    "            self.skipped_grooms_count += 1  # Увеличиваем количество пропущенных кандидатов\n",
    "            self.current_step += 1  # Переходим к следующему шагу\n",
    "\n",
    "        return self._get_obs(), reward, terminated, False, {\"chosen_groom\": chosen_groom}  # Возвращаем наблюдения, награду, статус завершения и информацию\n",
    "\n",
    "    def reset(self, seed=None, options=None):  # Метод для сброса среды\n",
    "        super().reset(seed=seed)\n",
    "        self.candidates = np.random.uniform(self.min_rating, self.max_rating, self.n_candidates)  # Генерация списка кандидатов\n",
    "        np.random.shuffle(self.candidates)  # Перемешиваем кандидатов случайным образом\n",
    "        self.best_candidate_index = np.argmax(self.candidates)  # Индекс лучшего кандидата\n",
    "        self.current_step = 0  # Сброс текущего шага\n",
    "        self.skipped_grooms_count = 0  # Сброс количества пропущенных кандидатов\n",
    "        self.viewed_candidates = []  # Сброс списка просмотренных кандидатов\n",
    "        return self._get_obs(), {}  # Возвращаем начальные наблюдения и информацию\n",
    "\n",
    "    def _get_obs(self):  # Метод для получения текущих наблюдений\n",
    "        if self.current_step >= self.n_candidates:\n",
    "            candidate_value = self.candidates[-1]  # Если достигнут последний кандидат\n",
    "        else:\n",
    "            candidate_value = self.candidates[self.current_step]  # Текущий кандидат\n",
    "\n",
    "        progress = min(1.0, self.current_step / self.n_candidates)  # Прогресс по кандидатам\n",
    "        return np.array([candidate_value, progress, self.n_candidates], dtype=np.float32)  # Возвращаем массив наблюдений\n",
    "\n",
    "    def set_improvement_reward(self, reward):  # Метод для установки награды за улучшение\n",
    "        self.improvement_reward = reward\n",
    "\n"
   ]
  },
  {
   "cell_type": "markdown",
   "id": "75d11763",
   "metadata": {},
   "source": [
    "# Вспомогательная функция для преобразования данных в сериализуемые типы\n"
   ]
  },
  {
   "cell_type": "code",
   "execution_count": 135,
   "id": "a7ae844d-16d9-4f6c-84b0-b964ef6f03b9",
   "metadata": {},
   "outputs": [],
   "source": [
    "def convert_to_serializable(data):\n",
    "    if isinstance(data, (np.float32, np.float64)):\n",
    "        return float(data)  # Преобразуем float32 и float64 в обычный float\n",
    "    elif isinstance(data, (np.int32, np.int64)):\n",
    "        return int(data)  # Преобразуем int32 и int64 в обычный int\n",
    "    elif isinstance(data, np.bool_):\n",
    "        return bool(data)  # Преобразуем np.bool_ в обычный bool\n",
    "    elif isinstance(data, list):\n",
    "        return [convert_to_serializable(item) for item in data]  # Рекурсивно обрабатываем список\n",
    "    elif isinstance(data, dict):\n",
    "        return {key: convert_to_serializable(value) for key, value in data.items()}  # Рекурсивно обрабатываем словарь\n",
    "    return data  # Возвращаем неизмененные данные"
   ]
  },
  {
   "cell_type": "markdown",
   "id": "dc24a433",
   "metadata": {},
   "source": [
    "# Функция для оценки вероятности выбора лучшего жениха\n"
   ]
  },
  {
   "cell_type": "code",
   "execution_count": 136,
   "id": "79cf956d-8511-4f98-acdb-aa7a1357dd6f",
   "metadata": {},
   "outputs": [],
   "source": [
    "def evaluate_best_groom_probability(env, model, n_episodes=50, log=False):\n",
    "    total_best_groom_selections = 0  # Счетчик правильных выборов лучшего жениха\n",
    "    results = []  # Логи для финальной оценки, если log=True\n",
    "    \n",
    "    for episode in range(n_episodes):\n",
    "        obs, _ = env.reset()  # Сбрасываем среду\n",
    "        done = False  # Флаг завершения эпизода\n",
    "        skipped_grooms_count = 0  # Счетчик пропущенных женихов\n",
    "        episode_log = {\"iteration\": episode + 1, \"steps\": []}  # Лог для текущей итерации\n",
    "        \n",
    "        while not done:\n",
    "            action, _states = model.predict(obs, deterministic=True)  # Прогнозируем действие модели\n",
    "            obs, reward, terminated, truncated, info = env.step(action)  # Выполняем шаг\n",
    "            done = terminated or truncated  # Проверяем, завершен ли эпизод\n",
    "            \n",
    "            # Логируем только если флаг log=True\n",
    "            if log:\n",
    "                step_log = {\n",
    "                    \"current_step\": env.current_step + 1,  # Текущий шаг (прибавляем 1 для более понятного отображения)\n",
    "                    \"current_groom_value\": round(float(obs[0]), 3),  # Текущее значение жениха\n",
    "                    \"comparison_groom_value\": round(np.max(env.candidates[:env.current_step + 1]), 3),  # Максимальное значение среди пропущенных женихов\n",
    "                    \"action\": \"skip\" if action == 0 else \"select\",  # Действие: пропуск или выбор\n",
    "                    \"best_groom_value\": round(env.candidates[env.best_candidate_index], 3),  # Значение лучшего жениха\n",
    "                    \"best_groom_index\": env.best_candidate_index  # Индекс лучшего жениха\n",
    "                }\n",
    "                episode_log[\"steps\"].append(step_log)  # Добавляем лог шага в лог эпизода\n",
    "                \n",
    "            if action == 0:  # Если действие – пропуск жениха\n",
    "                skipped_grooms_count += 1  # Увеличиваем счетчик пропусков\n",
    "        \n",
    "        selected_best_groom = bool(env.current_step == env.best_candidate_index)  # Проверяем, был ли выбран лучший жених\n",
    "        episode_log[\"selected_best_groom\"] = selected_best_groom  # Логируем результат выбора\n",
    "        episode_log[\"skipped_grooms_count\"] = skipped_grooms_count  # Логируем количество пропущенных женихов\n",
    "        \n",
    "        if selected_best_groom:\n",
    "            total_best_groom_selections += 1  # Увеличиваем счетчик правильных выборов\n",
    "        \n",
    "        if log:\n",
    "            results.append(episode_log)  # Сохраняем лог эпизода\n",
    "    \n",
    "    probability = total_best_groom_selections / n_episodes  # Вычисляем вероятность выбора лучшего жениха\n",
    "    \n",
    "    if log:\n",
    "    # Если параметр log установлен в True, создается лог данных для записи в файл\n",
    "        log_data = {\n",
    "            \"n_candidates\": env.n_candidates,  # Количество кандидатов\n",
    "            \"n_iterations\": n_episodes,        # Количество итераций\n",
    "            \"best_selection_percentage\": float(probability * 100),  # Вероятность выбора лучшего кандидата в процентах\n",
    "            \"details\": results  # Детальная информация о результатах\n",
    "        }\n",
    "        log_filename = \"groom_selection_log.json\"  # Имя файла для сохранения лога\n",
    "        with open(log_filename, \"w\") as f:\n",
    "            # Открываем файл на запись и сохраняем данные в формате JSON\n",
    "            json.dump(convert_to_serializable(log_data), f, indent=4)\n",
    "        print(f\"Лог сохранен в файл: {log_filename}\")  # Сообщение о том, что лог сохранен\n",
    "        \n",
    "    return probability  # Возвращаем вероятность выбора лучшего жениха"
   ]
  },
  {
   "cell_type": "markdown",
   "id": "394e4551",
   "metadata": {},
   "source": [
    "# Функция для обучения модели\n"
   ]
  },
  {
   "cell_type": "code",
   "execution_count": 137,
   "id": "839c0ee5-6015-43ee-91ab-f8b15e09fd2c",
   "metadata": {},
   "outputs": [],
   "source": [
    "def train_model(env, model, total_timesteps=200000, eval_interval=5000, eval_episodes=100):\n",
    "    train_model.last_probability = 0  # Инициализируем переменную для последней вероятности\n",
    "    train_model.best_probability = 0  # Инициализируем переменную для лучшей вероятности\n",
    "    probabilities = []  # Список для хранения вероятностей на каждом шаге\n",
    "    \n",
    "    # Скользящее среднее для сглаживания вероятности\n",
    "    window_size = 3  # Размер окна для скользящего среднего\n",
    "    last_probabilities = [0] * window_size  # Инициализируем массив для хранения последних вероятностей\n",
    "    print(\"Обучение алгоритма:\")  # Сообщение о начале обучения\n",
    "    \n",
    "    for step in range(0, total_timesteps, eval_interval):\n",
    "        # Основной цикл обучения, выполняем обучение с интервалом оценки\n",
    "        model.learn(total_timesteps=eval_interval, reset_num_timesteps=False, progress_bar=False)\n",
    "        \n",
    "        # Оцениваем вероятность выбора лучшего жениха без логирования во время обучения\n",
    "        probability = evaluate_best_groom_probability(env, model, n_episodes=eval_episodes, log=False)\n",
    "        \n",
    "        # Обновляем скользящее среднее\n",
    "        last_probabilities = last_probabilities[1:] + [probability]  # Добавляем текущую вероятность\n",
    "        smoothed_probability = sum(last_probabilities) / window_size  # Вычисляем скользящее среднее\n",
    "        \n",
    "        # Проверяем, улучшилась ли вероятность\n",
    "        if smoothed_probability > train_model.best_probability:\n",
    "            # Если вероятность улучшилась, рассчитываем награду за улучшение\n",
    "            improvement = smoothed_probability - train_model.best_probability  # Рассчитываем улучшение\n",
    "            improvement_reward = min(0.1, improvement)  # Ограничиваем максимальное улучшение\n",
    "            train_model.best_probability = smoothed_probability  # Обновляем лучшую вероятность\n",
    "            env.set_improvement_reward(improvement_reward)  # Устанавливаем награду за улучшение в окружении\n",
    "        else:\n",
    "            # Если улучшения нет, устанавливаем минимальную награду\n",
    "            if train_model.best_probability - smoothed_probability < 0.1:\n",
    "                env.set_improvement_reward(0.01)  # Минимальная награда при небольшом снижении\n",
    "            else:\n",
    "                env.set_improvement_reward(0)  # Награда равна нулю при значительном ухудшении\n",
    "        \n",
    "        # Выводим информацию о шаге обучения и текущей вероятности\n",
    "        print(f\"Шаг {step}: Вероятность выбора лучшего жениха: {probability:.2f}\")\n",
    "        \n",
    "        train_model.last_probability = probability  # Обновляем последнюю вероятность\n",
    "        probabilities.append(probability)  # Добавляем вероятность в список\n",
    "    \n",
    "    return probabilities  # Возвращаем список вероятностей"
   ]
  },
  {
   "cell_type": "markdown",
   "id": "a69ad8e5",
   "metadata": {},
   "source": [
    "# Создание модели\n"
   ]
  },
  {
   "cell_type": "code",
   "execution_count": 138,
   "id": "c215cbc9-1a6b-416b-988e-a58ecb0a87a2",
   "metadata": {},
   "outputs": [],
   "source": [
    "env = GroomSelectionEnv(n_candidates=100)  # Создаем окружение с 100 кандидатами\n",
    "vec_env = DummyVecEnv([lambda: env])  # Оборачиваем окружение для работы с векторизированной средой\n",
    "model = PPO(\n",
    "    \"MlpPolicy\",  # Используем многослойную политику\n",
    "    vec_env,  # Передаем окружение\n",
    "    learning_rate=0.0001,  # Снижаем скорость обучения для более стабильного обучения\n",
    "    n_steps=2048,  # Увеличиваем количество шагов в одном батче\n",
    "    batch_size=64,  # Размер батча\n",
    "    ent_coef=0.003,  # Коэффициент энтропии для уменьшения случайности в обучении\n",
    "    gamma=0.99,  # Коэффициент дисконтирования для будущих наград\n",
    "    verbose=0,  # Выключаем вывод подробной информации\n",
    "    clip_range=0.1,  # Ограничиваем clip_range для консервативных обновлений\n",
    ")"
   ]
  },
  {
   "cell_type": "markdown",
   "id": "ee12d879",
   "metadata": {},
   "source": [
    "# Обучение модели\n"
   ]
  },
  {
   "cell_type": "code",
   "execution_count": 139,
   "id": "20111004-e642-4de9-965f-bde0475bbe74",
   "metadata": {},
   "outputs": [
    {
     "name": "stdout",
     "output_type": "stream",
     "text": [
      "Обучение алгоритма:\n",
      "Шаг 0: Вероятность выбора лучшего жениха: 0.00\n",
      "Шаг 5000: Вероятность выбора лучшего жениха: 0.01\n",
      "Шаг 10000: Вероятность выбора лучшего жениха: 0.29\n",
      "Шаг 15000: Вероятность выбора лучшего жениха: 0.08\n",
      "Шаг 20000: Вероятность выбора лучшего жениха: 0.09\n",
      "Шаг 25000: Вероятность выбора лучшего жениха: 0.05\n",
      "Шаг 30000: Вероятность выбора лучшего жениха: 0.10\n",
      "Шаг 35000: Вероятность выбора лучшего жениха: 0.09\n",
      "Шаг 40000: Вероятность выбора лучшего жениха: 0.11\n",
      "Шаг 45000: Вероятность выбора лучшего жениха: 0.09\n",
      "Шаг 50000: Вероятность выбора лучшего жениха: 0.09\n",
      "Шаг 55000: Вероятность выбора лучшего жениха: 0.04\n",
      "Шаг 60000: Вероятность выбора лучшего жениха: 0.15\n",
      "Шаг 65000: Вероятность выбора лучшего жениха: 0.16\n",
      "Шаг 70000: Вероятность выбора лучшего жениха: 0.11\n",
      "Шаг 75000: Вероятность выбора лучшего жениха: 0.11\n",
      "Шаг 80000: Вероятность выбора лучшего жениха: 0.12\n",
      "Шаг 85000: Вероятность выбора лучшего жениха: 0.14\n",
      "Шаг 90000: Вероятность выбора лучшего жениха: 0.25\n",
      "Шаг 95000: Вероятность выбора лучшего жениха: 0.30\n",
      "Шаг 100000: Вероятность выбора лучшего жениха: 0.22\n",
      "Шаг 105000: Вероятность выбора лучшего жениха: 0.23\n",
      "Шаг 110000: Вероятность выбора лучшего жениха: 0.14\n",
      "Шаг 115000: Вероятность выбора лучшего жениха: 0.26\n",
      "Шаг 120000: Вероятность выбора лучшего жениха: 0.31\n",
      "Шаг 125000: Вероятность выбора лучшего жениха: 0.11\n",
      "Шаг 130000: Вероятность выбора лучшего жениха: 0.19\n",
      "Шаг 135000: Вероятность выбора лучшего жениха: 0.29\n",
      "Шаг 140000: Вероятность выбора лучшего жениха: 0.27\n",
      "Шаг 145000: Вероятность выбора лучшего жениха: 0.36\n",
      "Шаг 150000: Вероятность выбора лучшего жениха: 0.32\n",
      "Шаг 155000: Вероятность выбора лучшего жениха: 0.38\n",
      "Шаг 160000: Вероятность выбора лучшего жениха: 0.43\n",
      "Шаг 165000: Вероятность выбора лучшего жениха: 0.33\n",
      "Шаг 170000: Вероятность выбора лучшего жениха: 0.36\n",
      "Шаг 175000: Вероятность выбора лучшего жениха: 0.27\n",
      "Шаг 180000: Вероятность выбора лучшего жениха: 0.37\n",
      "Шаг 185000: Вероятность выбора лучшего жениха: 0.31\n",
      "Шаг 190000: Вероятность выбора лучшего жениха: 0.30\n",
      "Шаг 195000: Вероятность выбора лучшего жениха: 0.27\n"
     ]
    }
   ],
   "source": [
    "probabilities = train_model(env, model, total_timesteps=200000)"
   ]
  },
  {
   "cell_type": "markdown",
   "id": "8cb45c9b",
   "metadata": {},
   "source": [
    "# Построение графика изменения вероятности выбора лучшего жениха\n"
   ]
  },
  {
   "cell_type": "code",
   "execution_count": 140,
   "id": "483b07ae-cf8b-4345-b16c-488d4d407011",
   "metadata": {},
   "outputs": [
    {
     "data": {
      "image/png": "[encoded data removed]",
      "text/plain": [
       "<Figure size 1200x600 with 1 Axes>"
      ]
     },
     "metadata": {},
     "output_type": "display_data"
    }
   ],
   "source": [
    "plt.figure(figsize=(12, 6))\n",
    "sns.lineplot(x=range(0, len(probabilities) * 5000, 5000), y=probabilities, marker='o', color='b')\n",
    "plt.title('Вероятность выбора лучшего жениха за время обучения', fontsize=14)\n",
    "plt.xlabel('Шаги обучения', fontsize=12)\n",
    "plt.ylabel('Вероятность', fontsize=12)\n",
    "plt.grid(True)\n",
    "plt.show()"
   ]
  },
  {
   "cell_type": "markdown",
   "id": "cd6bae27",
   "metadata": {},
   "source": [
    "# Финальная оценка вероятности\n"
   ]
  },
  {
   "cell_type": "code",
   "execution_count": 141,
   "id": "fdcc4c49-4b73-4f6c-8616-df8418f056a4",
   "metadata": {},
   "outputs": [
    {
     "name": "stdout",
     "output_type": "stream",
     "text": [
      "Лог сохранен в файл: groom_selection_log.json\n",
      "\n",
      "Финальная вероятность выбора лучшего жениха: 0.33, т.е. 33.0%\n"
     ]
    }
   ],
   "source": [
    "final_probability = evaluate_best_groom_probability(env, model, n_episodes=100, log=True)\n",
    "print(f\"\\nФинальная вероятность выбора лучшего жениха: {final_probability:.2f}, т.е. {final_probability * 100}%\")"
   ]
  },
  {
   "cell_type": "markdown",
   "id": "f015c08d",
   "metadata": {},
   "source": [
    "# Создание новой среды для тестирования модели с другим распределением рейтинга кандидатов"
   ]
  },
  {
   "cell_type": "code",
   "execution_count": 59,
   "id": "52774980",
   "metadata": {},
   "outputs": [],
   "source": [
    "import random  # Импортируем модуль random для генерации случайных значений\n",
    "\n",
    "class GroomSelectionEnv(gym.Env):  # Определяем класс среды наследуя от gym.Env\n",
    "    def __init__(self, n_candidates=100):  # Инициализация среды\n",
    "        super().__init__()  # Вызываем конструктор базового класса\n",
    "        self.n_candidates = n_candidates  # Количество кандидатов\n",
    "        self.min_rating = random.randint(10, 500)  # Случайный минимальный рейтинг от 10 до 500\n",
    "        self.max_rating = random.randint(501, 1000)  # Случайный максимальный рейтинг от 501 до 1000\n",
    "        self.candidates = []  # Список кандидатов\n",
    "        self.current_step = 0  # Текущий шаг\n",
    "        self.best_candidate_index = -1  # Индекс лучшего кандидата\n",
    "        self.improvement_reward = 0  # Награда за улучшение\n",
    "        self.skipped_grooms_count = 0  # Количество пропущенных кандидатов\n",
    "        self.viewed_candidates = []  # Список просмотренных кандидатов\n",
    "\n",
    "        self.action_space = spaces.Discrete(2)  # Дискретное пространство действий: 2 действия (пропуск или выбор)\n",
    "        self.observation_space = spaces.Box(\n",
    "            low=0, high=1, shape=(3,), dtype=np.float32  # Наблюдения: рейтинг текущего кандидата, прогресс, количество кандидатов\n",
    "        )\n",
    "\n",
    "    def step(self, action):  # Метод выполнения шага\n",
    "        if self.current_step >= self.n_candidates - 1:  # Проверяем, достигнут ли конец списка кандидатов\n",
    "            terminated = True  # Флаг завершения\n",
    "            chosen_groom = True  # Флаг выбора кандидата\n",
    "\n",
    "            if self.current_step - 1 == self.best_candidate_index:  # Проверяем, выбран ли лучший кандидат\n",
    "                reward = 1.0  # Награда за выбор лучшего кандидата\n",
    "            else:\n",
    "                reward = 0.0  # Минимальная награда при отсутствии выбора лучшего кандидата\n",
    "            reward += self.improvement_reward  # Добавляем награду за улучшение\n",
    "            return self._get_obs(), reward, terminated, False, {\"chosen_groom\": chosen_groom}  # Возвращаем наблюдения, награду и флаги\n",
    "\n",
    "        reward = 0  # Начальная награда\n",
    "        terminated = False  # Флаг завершения\n",
    "        chosen_groom = False  # Флаг выбора кандидата\n",
    "\n",
    "        if action == 1:  # Если действие - выбор кандидата\n",
    "            chosen_groom = True  # Кандидат выбран\n",
    "            if self.current_step == self.best_candidate_index:  # Проверяем, выбран ли лучший кандидат\n",
    "                reward = 1.0  # Награда за выбор лучшего кандидата\n",
    "            else:\n",
    "                if self.viewed_candidates and self.candidates[self.current_step] > max(self.viewed_candidates):\n",
    "                    reward = 0.1  # Награда за выбор кандидата выше самого высокого из просмотренных\n",
    "            reward += self.improvement_reward  # Добавляем награду за улучшение\n",
    "            terminated = True  # Завершаем эпизод\n",
    "        else:  # Если действие - пропуск кандидата\n",
    "            self.viewed_candidates.append(self.candidates[self.current_step])  # Запоминаем текущего кандидата\n",
    "            self.skipped_grooms_count += 1  # Увеличиваем счетчик пропусков\n",
    "            self.current_step += 1  # Переходим к следующему кандидату\n",
    "\n",
    "        return self._get_obs(), reward, terminated, False, {\"chosen_groom\": chosen_groom}  # Возвращаем наблюдения, награду и флаги\n",
    "\n",
    "    def reset(self, seed=None, options=None):  # Метод сброса среды\n",
    "        super().reset(seed=seed)  # Сбрасываем базовый класс\n",
    "        self.min_rating = random.randint(10, 500)  # Перегенерируем случайный минимальный рейтинг от 10 до 500\n",
    "        self.max_rating = random.randint(501, 1000)  # Перегенерируем случайный максимальный рейтинг от 501 до 1000\n",
    "        self.candidates = np.random.uniform(self.min_rating, self.max_rating, self.n_candidates)  # Генерируем случайные рейтинги кандидатов\n",
    "        np.random.shuffle(self.candidates)  # Перемешиваем кандидатов случайным образом\n",
    "        self.best_candidate_index = np.argmax(self.candidates)  # Определяем индекс лучшего кандидата\n",
    "        self.current_step = 0  # Сбрасываем текущий шаг\n",
    "        self.skipped_grooms_count = 0  # Сбрасываем счетчик пропусков\n",
    "        self.viewed_candidates = []  # Сбрасываем список просмотренных кандидатов\n",
    "        return self._get_obs(), {}  # Возвращаем начальные наблюдения\n",
    "\n",
    "    def _get_obs(self):  # Метод получения наблюдений\n",
    "        if self.current_step >= self.n_candidates:  # Проверяем, достигнут ли конец списка кандидатов\n",
    "            candidate_value = self.candidates[-1]  # Рейтинг последнего кандидата\n",
    "        else:\n",
    "            candidate_value = self.candidates[self.current_step]  # Рейтинг текущего кандидата\n",
    "\n",
    "        progress = min(1.0, self.current_step / self.n_candidates)  # Расчет прогресса\n",
    "        return np.array([candidate_value, progress, self.n_candidates], dtype=np.float32)  # Возвращаем наблюдения\n",
    "\n",
    "    def set_improvement_reward(self, reward):  # Метод установки награды за улучшение\n",
    "        self.improvement_reward = reward  # Устанавливаем награду за улучшение\n"
   ]
  },
  {
   "cell_type": "markdown",
   "id": "193e4482",
   "metadata": {},
   "source": [
    "# Тест"
   ]
  },
  {
   "cell_type": "code",
   "execution_count": 60,
   "id": "7a0dc523",
   "metadata": {},
   "outputs": [
    {
     "name": "stdout",
     "output_type": "stream",
     "text": [
      "Лог сохранен в файл: groom_selection_log.json\n",
      "\n",
      "Финальная вероятность выбора лучшего жениха: 0.36, т.е. 36.0%\n"
     ]
    }
   ],
   "source": [
    "final_probability = evaluate_best_groom_probability(env, model, n_episodes=100, log=True)\n",
    "print(f\"\\nФинальная вероятность выбора лучшего жениха: {final_probability:.2f}, т.е. {final_probability * 100}%\")"
   ]
  }
 ],
 "metadata": {
  "kernelspec": {
   "display_name": "Python 3",
   "language": "python",
   "name": "python3"
  },
  "language_info": {
   "codemirror_mode": {
    "name": "ipython",
    "version": 3
   },
   "file_extension": ".py",
   "mimetype": "text/x-python",
   "name": "python",
   "nbconvert_exporter": "python",
   "pygments_lexer": "ipython3",
   "version": "3.11.9"
  }
 },
 "nbformat": 4,
 "nbformat_minor": 5
}
